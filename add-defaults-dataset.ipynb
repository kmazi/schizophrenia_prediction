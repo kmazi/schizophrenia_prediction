{
 "cells": [
  {
   "cell_type": "code",
   "execution_count": 25,
   "metadata": {},
   "outputs": [],
   "source": [
    "# copy data to meemory\n",
    "import csv \n",
    "\n",
    "entries = []\n",
    "with open(\"entries_with_default.csv\") as csv_file:\n",
    "    reader = csv.DictReader(csv_file)\n",
    "    for row in reader:\n",
    "        entries.append(row)"
   ]
  },
  {
   "cell_type": "code",
   "execution_count": 57,
   "metadata": {},
   "outputs": [],
   "source": [
    "# set updates\n",
    "from collections import defaultdict\n",
    "\n",
    "# unknown keys would default to 0\n",
    "default_values = defaultdict(int)\n",
    "\n",
    "# columns grouped into their defualt values, so missing keys here would be zeroes\n",
    "nullibles = ['Gender', 'Hospital_Number', 'S/N', 'Duration_of_Symtoms(months)', 'Age']\n",
    "ones = ['level_of_education', ]\n",
    "twos = ['Possession_of_Thought']\n",
    "threes = ['Form_of_thought', 'Content_of_Thought', 'Family_History', 'Premorbid_Personality']\n",
    "fours = [\n",
    "    'Progression_of_Thought', 'Perception', 'Attention_and_Concentration',\n",
    "    'Memory_reg', 'Memory_immediate_recall', 'Short_Memory', 'Long_Memory',\n",
    "    'Level_of_Intellige', 'General_Knowledge', 'Judgement'\n",
    "]\n",
    "fives = [ 'Mood',]\n",
    "sixes = ['Orientation']\n",
    "eights = [ 'Affect']\n",
    "\n",
    "def set_key_default(keys, value):\n",
    "    '''\n",
    "    set the default value for a key\n",
    "    \n",
    "    args keys: list<str>\n",
    "    value: int\n",
    "    \n",
    "    returns: none\n",
    "    '''\n",
    "    for key in keys:\n",
    "        default_values[key] = value\n",
    "\n",
    "set_key_default(nullibles, None)\n",
    "set_key_default(ones, 1)\n",
    "set_key_default(twos, 2)\n",
    "set_key_default(threes, 3)\n",
    "set_key_default(fours, 4)\n",
    "set_key_default(fives, 5)\n",
    "set_key_default(sixes, 6)\n",
    "set_key_default(eights, 8)\n",
    "\n",
    "\n",
    "entries_with_default = []\n",
    "\n",
    "def update_entries(entry):\n",
    "    _entry = defaultdict(int)\n",
    "    for key, value in entry.items():\n",
    "        _entry[key] = value if value else default_values[key]\n",
    "    return _entry\n",
    "        \n",
    "for entry in entries:\n",
    "    entries_with_default.append(update_entries(entry))"
   ]
  },
  {
   "cell_type": "code",
   "execution_count": 58,
   "metadata": {},
   "outputs": [],
   "source": [
    "# write to csv\n",
    "with open('Schizhophrenia_latest_preprocessed.csv', 'w', newline='') as csv_file:\n",
    "    keys = default_values.keys()\n",
    "    writer = csv.DictWriter(csv_file, fieldnames=keys)\n",
    "\n",
    "    writer.writeheader()\n",
    "    for entry in entries_with_default:\n",
    "        writer.writerow(entry)"
   ]
  },
  {
   "cell_type": "code",
   "execution_count": null,
   "metadata": {},
   "outputs": [],
   "source": []
  }
 ],
 "metadata": {
  "kernelspec": {
   "display_name": "Python 3",
   "language": "python",
   "name": "python3"
  },
  "language_info": {
   "codemirror_mode": {
    "name": "ipython",
    "version": 3
   },
   "file_extension": ".py",
   "mimetype": "text/x-python",
   "name": "python",
   "nbconvert_exporter": "python",
   "pygments_lexer": "ipython3",
   "version": "3.8.5"
  }
 },
 "nbformat": 4,
 "nbformat_minor": 4
}
